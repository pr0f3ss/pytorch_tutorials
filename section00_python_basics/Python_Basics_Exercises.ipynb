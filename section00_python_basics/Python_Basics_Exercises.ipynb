{
 "cells": [
  {
   "cell_type": "markdown",
   "metadata": {},
   "source": [
    "### Exercise 1: \n",
    "Write a Python program to find the numbers between 1800 and 2400 (inclusive) that are multiples of both 5 and 8."
   ]
  },
  {
   "cell_type": "code",
   "execution_count": 3,
   "metadata": {},
   "outputs": [
    {
     "name": "stdout",
     "output_type": "stream",
     "text": [
      "[1800, 1840, 1880, 1920, 1960, 2000, 2040, 2080, 2120, 2160, 2200, 2240, 2280, 2320, 2360, 2400]\n"
     ]
    }
   ],
   "source": [
    "task1 = [i for i in range(1800, 2401) if i % 5 == 0 and i % 8 == 0]\n",
    "print(task1)"
   ]
  },
  {
   "cell_type": "markdown",
   "metadata": {},
   "source": [
    "### Exercise2:\n",
    "Write a Python program to construct the following pattern, using a nested for loop.\n",
    "\n",
    "    * \n",
    "    * * \n",
    "    * * * \n",
    "    * * * * \n",
    "    * * * * * \n",
    "    * * * * \n",
    "    * * * \n",
    "    * * \n",
    "    *\n",
    "\n",
    "Note: to print without a newline after the text write print(\"Text to print\", end=\"\")"
   ]
  },
  {
   "cell_type": "code",
   "execution_count": 9,
   "metadata": {},
   "outputs": [
    {
     "name": "stdout",
     "output_type": "stream",
     "text": [
      "* \n",
      "* * \n",
      "* * * \n",
      "* * * * \n",
      "* * * * * \n",
      "* * * * \n",
      "* * * \n",
      "* * \n",
      "* \n"
     ]
    }
   ],
   "source": [
    "amt = 1\n",
    "for i in range(9):\n",
    "    for j in range(amt):\n",
    "        print(\"* \", end=\"\")\n",
    "\n",
    "    add = 1 if i < 4 else -1\n",
    "    amt += add\n",
    "    print(\"\")\n"
   ]
  },
  {
   "cell_type": "markdown",
   "metadata": {},
   "source": [
    "### Exercise3:\n",
    "Create a function that sorts the following lists of numbers from ascending or decending order"
   ]
  },
  {
   "cell_type": "code",
   "execution_count": 22,
   "metadata": {},
   "outputs": [
    {
     "name": "stdout",
     "output_type": "stream",
     "text": [
      "[2, 5, 7, 8, 12, 16, 19, 21, 28]\n",
      "[100, 32, 21, 21, 8, 5]\n",
      "[29]\n"
     ]
    }
   ],
   "source": [
    "def sort_list(list_of_numbers, ascending = True):\n",
    "    return sorted(list_of_numbers, reverse=(not ascending))\n",
    "\n",
    "print(sort_list([16, 2, 28, 19, 8, 5, 21, 12, 7]))\n",
    "print(sort_list([32, 8, 5, 21, 100, 21], ascending = False))\n",
    "print(sort_list([29]))"
   ]
  },
  {
   "cell_type": "markdown",
   "metadata": {},
   "source": [
    "#### Exercise 4:\n",
    "Write a Python function to calculate the factoral of a number. Pass the number as an arguement."
   ]
  },
  {
   "cell_type": "code",
   "execution_count": 25,
   "metadata": {},
   "outputs": [
    {
     "name": "stdout",
     "output_type": "stream",
     "text": [
      "120\n"
     ]
    }
   ],
   "source": [
    "def factorial(number):\n",
    "    if number == 1:\n",
    "        return 1\n",
    "    return number * factorial(number-1)\n",
    "    \n",
    "print(factorial(5))"
   ]
  },
  {
   "cell_type": "markdown",
   "metadata": {},
   "source": [
    "### Exercise 5:\n",
    "Write a Python class named Circle constructed by a radius and two methods which will compute the area and the perimeter of a circle. (Use 3.14 as the value of pi)"
   ]
  },
  {
   "cell_type": "code",
   "execution_count": 27,
   "metadata": {},
   "outputs": [
    {
     "name": "stdout",
     "output_type": "stream",
     "text": [
      "Circle area 200.96\n",
      "Circle perimeter 50.24\n"
     ]
    }
   ],
   "source": [
    "class Circle():\n",
    "    pi = 3.14\n",
    "\n",
    "    ##### Complete __init__() function here\n",
    "    def __init__(self, radius):\n",
    "        self.radius = radius\n",
    "\n",
    "    \n",
    "    ##### Complete area method here\n",
    "    def area(self):\n",
    "        return self.radius**2 * Circle.pi\n",
    "    \n",
    "    ##### Complete perimeter method here\n",
    "    def perimeter(self):\n",
    "        return 2 * Circle.pi * self.radius\n",
    "new_circle = Circle(8)\n",
    "print(\"Circle area %.2f\" % new_circle.area())\n",
    "print(\"Circle perimeter %.2f\" % new_circle.perimeter())"
   ]
  },
  {
   "cell_type": "markdown",
   "metadata": {},
   "source": [
    "### Exercise 6:\n",
    "Using the previous class create a new class that computes the volume and surface area of a cylinder by inheriting properties of the Circle class"
   ]
  },
  {
   "cell_type": "code",
   "execution_count": null,
   "metadata": {},
   "outputs": [
    {
     "ename": "TypeError",
     "evalue": "unsupported operand type(s) for *: 'int' and 'method'",
     "output_type": "error",
     "traceback": [
      "\u001b[1;31m---------------------------------------------------------------------------\u001b[0m",
      "\u001b[1;31mTypeError\u001b[0m                                 Traceback (most recent call last)",
      "Cell \u001b[1;32mIn[30], line 16\u001b[0m\n\u001b[0;32m     13\u001b[0m         \u001b[38;5;28;01mreturn\u001b[39;00m \u001b[38;5;28mself\u001b[39m\u001b[38;5;241m.\u001b[39marea \u001b[38;5;241m*\u001b[39m \u001b[38;5;28mself\u001b[39m\u001b[38;5;241m.\u001b[39mheight\n\u001b[0;32m     15\u001b[0m new_cylinder \u001b[38;5;241m=\u001b[39m Cylinder(\u001b[38;5;241m8\u001b[39m, \u001b[38;5;241m10\u001b[39m)\n\u001b[1;32m---> 16\u001b[0m \u001b[38;5;28mprint\u001b[39m(\u001b[38;5;124m\"\u001b[39m\u001b[38;5;124mCylinder surface area \u001b[39m\u001b[38;5;132;01m%.2f\u001b[39;00m\u001b[38;5;124m\"\u001b[39m \u001b[38;5;241m%\u001b[39m \u001b[43mnew_cylinder\u001b[49m\u001b[38;5;241;43m.\u001b[39;49m\u001b[43msurface_area\u001b[49m\u001b[43m(\u001b[49m\u001b[43m)\u001b[49m)\n\u001b[0;32m     17\u001b[0m \u001b[38;5;28mprint\u001b[39m(\u001b[38;5;124m\"\u001b[39m\u001b[38;5;124mCylinder volume \u001b[39m\u001b[38;5;132;01m%.2f\u001b[39;00m\u001b[38;5;124m\"\u001b[39m \u001b[38;5;241m%\u001b[39m new_cylinder\u001b[38;5;241m.\u001b[39mvolume())\n",
      "Cell \u001b[1;32mIn[30], line 9\u001b[0m, in \u001b[0;36mCylinder.surface_area\u001b[1;34m(self)\u001b[0m\n\u001b[0;32m      8\u001b[0m \u001b[38;5;28;01mdef\u001b[39;00m \u001b[38;5;21msurface_area\u001b[39m(\u001b[38;5;28mself\u001b[39m):\n\u001b[1;32m----> 9\u001b[0m     \u001b[38;5;28;01mreturn\u001b[39;00m \u001b[38;5;241;43m2\u001b[39;49m\u001b[38;5;241;43m*\u001b[39;49m\u001b[38;5;28;43mself\u001b[39;49m\u001b[38;5;241;43m.\u001b[39;49m\u001b[43marea\u001b[49m \u001b[38;5;241m+\u001b[39m \u001b[38;5;241m2\u001b[39m\u001b[38;5;241m*\u001b[39mCylinder\u001b[38;5;241m.\u001b[39mpi\u001b[38;5;241m*\u001b[39m\u001b[38;5;28mself\u001b[39m\u001b[38;5;241m.\u001b[39mradius\u001b[38;5;241m*\u001b[39m\u001b[38;5;28mself\u001b[39m\u001b[38;5;241m.\u001b[39mheight\n",
      "\u001b[1;31mTypeError\u001b[0m: unsupported operand type(s) for *: 'int' and 'method'"
     ]
    }
   ],
   "source": [
    "class Cylinder(Circle):\n",
    "    ##### Complete __init__() function here\n",
    "    def __init__(self, radius, height):\n",
    "        super().__init__(radius)\n",
    "        self.height = height\n",
    "\n",
    "    ##### Complete surface area method here\n",
    "    def surface_area(self):\n",
    "        return 2*self.area + 2*self.radius*self.height\n",
    "\n",
    "    ##### Complete volume method here\n",
    "    def volume(self):\n",
    "        return self.area * self.height\n",
    "\n",
    "new_cylinder = Cylinder(8, 10)\n",
    "print(\"Cylinder surface area %.2f\" % new_cylinder.surface_area())\n",
    "print(\"Cylinder volume %.2f\" % new_cylinder.volume())"
   ]
  }
 ],
 "metadata": {
  "kernelspec": {
   "display_name": "Python 3",
   "language": "python",
   "name": "python3"
  },
  "language_info": {
   "codemirror_mode": {
    "name": "ipython",
    "version": 3
   },
   "file_extension": ".py",
   "mimetype": "text/x-python",
   "name": "python",
   "nbconvert_exporter": "python",
   "pygments_lexer": "ipython3",
   "version": "3.10.0"
  }
 },
 "nbformat": 4,
 "nbformat_minor": 2
}
